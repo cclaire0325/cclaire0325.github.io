{
  "nbformat": 4,
  "nbformat_minor": 0,
  "metadata": {
    "colab": {
      "provenance": [],
      "authorship_tag": "ABX9TyNkpYfFYKAlpIjxqlxiyYQF",
      "include_colab_link": true
    },
    "kernelspec": {
      "name": "python3",
      "display_name": "Python 3"
    },
    "language_info": {
      "name": "python"
    }
  },
  "cells": [
    {
      "cell_type": "markdown",
      "metadata": {
        "id": "view-in-github",
        "colab_type": "text"
      },
      "source": [
        "<a href=\"https://colab.research.google.com/github/cclaire0325/cclaire0325.github.io/blob/main/AIES_finalProject.ipynb\" target=\"_parent\"><img src=\"https://colab.research.google.com/assets/colab-badge.svg\" alt=\"Open In Colab\"/></a>"
      ]
    },
    {
      "cell_type": "code",
      "source": [
        "# import the 'drive' module from the 'google.colab' library.\n",
        "# mount Google Drive to the virtual machine running the Colab notebook.\n",
        "from google.colab import drive\n",
        "drive.mount('/content/drive')\n"
      ],
      "metadata": {
        "colab": {
          "base_uri": "https://localhost:8080/"
        },
        "id": "F-hs3ALdT-6N",
        "outputId": "3a5d3eda-0364-40d6-8951-207d8f615e6d"
      },
      "execution_count": null,
      "outputs": [
        {
          "output_type": "stream",
          "name": "stdout",
          "text": [
            "Drive already mounted at /content/drive; to attempt to forcibly remount, call drive.mount(\"/content/drive\", force_remount=True).\n"
          ]
        }
      ]
    },
    {
      "cell_type": "code",
      "source": [
        "file_path = '/content/drive/MyDrive/Colab Notebooks/archive/Data.csv'\n",
        "\n",
        "import numpy as np\n",
        "\n",
        "# Load the dataset into a pandas DataFrame\n",
        "import pandas as pd\n",
        "data = pd.read_csv(file_path)\n",
        "# Creates a deep copy of the data DataFrame and stores it in 'a new DataFrame' called 'original_data'.\n",
        "# a deep copy ensures that any changes made to 'data' will not affect original_data, and vice versa.\n",
        "# This is useful to preserve the original data for reference or comparison while working with a copy of the data.\n",
        "original_data = data.copy(deep=True)\n"
      ],
      "metadata": {
        "id": "3Lpg26JjT8rd"
      },
      "execution_count": null,
      "outputs": []
    },
    {
      "cell_type": "markdown",
      "source": [
        "# **STEP 2**\n"
      ],
      "metadata": {
        "id": "iso-wnOmY0aX"
      }
    },
    {
      "cell_type": "code",
      "execution_count": null,
      "metadata": {
        "colab": {
          "base_uri": "https://localhost:8080/"
        },
        "id": "H82QaYU4I2BI",
        "outputId": "df064828-89c0-45fa-e545-4c6b9b6d93ec"
      },
      "outputs": [
        {
          "output_type": "stream",
          "name": "stdout",
          "text": [
            "['M      ' 'F      ']\n",
            "[21, 22, 23, 24, 25, 26, 27, 28, 29, 30, 31, 32, 33, 34, 35, 36, 37, 38, 39, 40, 41, 42, 43, 44, 45, 46, 47, 48, 49, 50, 51, 52, 53, 54, 55, 56, 57, 58, 59, 60, 61, 62, 63, 64, 65, 66, 67, 68]\n",
            "F          15627\n",
            "M           9501\n",
            "Name: Applicant_Gender, dtype: int64\n",
            "Number of individuals < 45 years old: 16166\n",
            "Number of individuals >= 45 years old: 8962\n"
          ]
        }
      ],
      "source": [
        "# First, check the unique values to understand the categories\n",
        "print(data['Applicant_Gender'].unique())\n",
        "print(sorted(data['Applicant_Age'].unique()))\n",
        "\n",
        "# Count the number of males and females\n",
        "gender_counts = data['Applicant_Gender'].value_counts()\n",
        "print(gender_counts)\n",
        "\n",
        "# Count the number of individuals <45 years old and >=45\n",
        "age_below_45 = (data['Applicant_Age'] < 45).sum()\n",
        "age_45_and_above = (data['Applicant_Age'] >= 45).sum()\n",
        "\n",
        "print(f\"Number of individuals < 45 years old: {age_below_45}\")\n",
        "print(f\"Number of individuals >= 45 years old: {age_45_and_above}\")"
      ]
    },
    {
      "cell_type": "markdown",
      "source": [
        "Step 2.2: Discretize Dependent Variables\n",
        "\n",
        "'Total_Income' and 'Years_of_Working' are continuous and bin them\n",
        "\n"
      ],
      "metadata": {
        "id": "21VxlX6xbFbA"
      }
    },
    {
      "cell_type": "code",
      "source": [
        "# First, check the unique values to understand the categories\n",
        "print(sorted(data['Total_Income'].unique()))\n",
        "print(sorted(data['Years_of_Working'].unique()))\n",
        "\n",
        "# Count the number of people with 'Total_Income' less than 180,000 and larger than or equal to 180,000\n",
        "# .sum() function counts the number of True values in each boolean condition to give the total counts for each category.\n",
        "income_below_180000 = (data['Total_Income'] < 180000).sum()\n",
        "income_180000_and_above = (data['Total_Income'] >= 180000).sum()\n",
        "\n",
        "print(f\"Number of people with 'Total_Income' < 180000: {income_below_180000}\")\n",
        "print(f\"Number of people with 'Total_Income' >= 180000: {income_180000_and_above}\")\n",
        "\n",
        "# Count the number of people with 'Years_of_Working' less than 7 years and 7 years or more\n",
        "working_less_than_7_years = (data['Years_of_Working'] < 7).sum()\n",
        "working_7_years_and_more = (data['Years_of_Working'] >= 7).sum()\n",
        "\n",
        "print(f\"People with 'Years_of_Working' < 7 years: {working_less_than_7_years}\")\n",
        "print(f\"People with 'Years_of_Working' >= 7 years: {working_7_years_and_more}\")\n",
        "\n",
        "\n"
      ],
      "metadata": {
        "colab": {
          "base_uri": "https://localhost:8080/"
        },
        "id": "dlwHw90GP9-i",
        "outputId": "3d45e05d-d40a-4bb4-c014-c1c158c53adb"
      },
      "execution_count": null,
      "outputs": [
        {
          "output_type": "stream",
          "name": "stdout",
          "text": [
            "[27000, 31500, 32400, 36000, 36900, 40500, 45000, 47250, 49500, 51750, 54000, 58500, 60377, 60750, 62654, 63000, 67500, 69372, 69750, 72000, 73350, 74061, 74250, 76500, 78750, 81000, 82350, 85500, 87750, 90000, 90900, 91530, 94500, 95850, 99000, 101250, 103500, 105750, 108000, 112500, 114750, 115200, 116100, 116654, 117000, 118350, 119250, 120150, 121500, 122400, 123750, 124200, 126000, 128543, 129150, 130500, 132372, 132750, 134996, 135000, 139500, 140400, 140850, 143100, 144000, 145350, 146250, 147150, 148500, 153000, 155250, 157500, 159750, 160200, 162000, 164250, 166500, 168750, 170303, 171000, 171261, 173250, 175500, 176175, 176400, 178200, 179100, 179271, 180000, 184136, 184500, 185400, 189000, 190400, 191250, 191700, 193500, 195750, 196650, 198000, 202500, 207000, 211500, 213750, 215100, 215550, 216000, 220500, 222750, 225000, 227250, 229500, 234000, 234135, 238500, 240750, 243000, 247500, 252000, 253800, 254700, 256500, 257625, 261000, 265500, 265581, 267750, 270000, 274500, 279000, 283500, 288000, 292500, 297000, 301500, 306000, 310500, 315000, 324000, 326250, 328500, 333000, 337500, 342000, 346500, 351000, 355500, 360000, 364500, 369000, 373500, 378000, 382500, 387000, 391500, 396000, 405000, 423000, 427500, 432000, 441000, 445500, 450000, 459000, 463500, 468000, 472500, 494100, 495000, 517500, 531000, 540000, 560250, 562500, 585000, 607500, 612000, 616500, 630000, 634500, 652500, 661500, 675000, 697500, 716324, 720000, 765000, 787500, 810000, 900000, 945000, 990000, 1125000, 1350000, 1575000]\n",
            "[1, 2, 3, 4, 5, 6, 7, 8, 9, 10, 11, 12, 13, 14, 15, 16, 17, 18, 19, 20, 21, 22, 23, 24, 25, 26, 27, 28, 29, 30, 31, 32, 33, 34, 35, 36, 37, 38, 39, 40, 41, 43, 44]\n",
            "Number of people with 'Total_Income' < 180000: 12348\n",
            "Number of people with 'Total_Income' >= 180000: 12780\n",
            "People with 'Years_of_Working' < 7 years: 13697\n",
            "People with 'Years_of_Working' >= 7 years: 11431\n"
          ]
        }
      ]
    },
    {
      "cell_type": "markdown",
      "source": [
        "Step 2.4  Cross-tabulation of each protected class variable that shows the frequency values of its membership categories as a function of the dependent variables"
      ],
      "metadata": {
        "id": "VhDT1CBJgKAR"
      }
    },
    {
      "cell_type": "code",
      "source": [
        "# 2.4.1 Frequency of 'Applicant_Age' (< 45 years and >= 45 years) with 'Total_Income' (< 180000 and >= 180000):\n",
        "# Create a new column for age categories\n",
        "data['Age_Category'] = data['Applicant_Age'].apply(lambda x: '< 45' if x < 45 else '>= 45')\n",
        "print(data['Age_Category'].head())\n",
        "\n",
        "# Create a new column for income categories\n",
        "data['Income_Category'] = data['Total_Income'].apply(lambda x: '< 180000' if x < 180000 else '>= 180000')\n",
        "print(data['Income_Category'].head())\n",
        "\n",
        "# Cross-tabulation of Age Category and Income Category\n",
        "# the cells of the table will contain the counts of how many times each combination of 'Age_Category' and 'Income_Category' occurs in dataset.\n",
        "age_income_frequency = pd.crosstab(data['Age_Category'], data['Income_Category'])\n",
        "print(age_income_frequency)\n",
        "\n",
        "#2.4.2 Frequency of 'Applicant_Age' (< 45 years and >= 45 years) with 'Years_of_Working' (< 7 years and >= 7 years):\n",
        "# Create a new column for working years categories\n",
        "data['Working_Years_Category'] = data['Years_of_Working'].apply(lambda x: '< 7' if x < 7 else '>= 7')\n",
        "\n",
        "# Cross-tabulation of Age Category and Working Years Category\n",
        "age_working_frequency = pd.crosstab(data['Age_Category'], data['Working_Years_Category'])\n",
        "print(age_working_frequency)\n",
        "\n",
        "# 2.4.3 Frequency of 'Applicant_Gender' (female and male) with 'Total_Income' (< 180000 and >= 180000):\n",
        "gender_income_frequency = pd.crosstab(data['Applicant_Gender'], data['Income_Category'])\n",
        "print(gender_income_frequency)\n",
        "\n",
        "# 2.4.4 Frequency of 'Applicant_Gender' (female and male) with 'Years_of_Working' (< 7 years and >= 7 years):\n",
        "# Cross-tabulation of Gender and Working Years Category\n",
        "gender_working_frequency = pd.crosstab(data['Applicant_Gender'], data['Working_Years_Category'])\n",
        "print(gender_working_frequency)\n"
      ],
      "metadata": {
        "colab": {
          "base_uri": "https://localhost:8080/"
        },
        "id": "nGkl_lqFVE3f",
        "outputId": "0ea76055-34b0-4283-e96d-4044ef0c00dc"
      },
      "execution_count": null,
      "outputs": [
        {
          "output_type": "stream",
          "name": "stdout",
          "text": [
            "0    >= 45\n",
            "1    >= 45\n",
            "2    >= 45\n",
            "3    >= 45\n",
            "4    >= 45\n",
            "Name: Age_Category, dtype: object\n",
            "0     < 180000\n",
            "1    >= 180000\n",
            "2    >= 180000\n",
            "3    >= 180000\n",
            "4    >= 180000\n",
            "Name: Income_Category, dtype: object\n",
            "Income_Category  < 180000  >= 180000\n",
            "Age_Category                        \n",
            "< 45                 8205       7961\n",
            ">= 45                4143       4819\n",
            "Working_Years_Category   < 7  >= 7\n",
            "Age_Category                      \n",
            "< 45                    9636  6530\n",
            ">= 45                   4061  4901\n",
            "Income_Category   < 180000  >= 180000\n",
            "Applicant_Gender                     \n",
            "F                     8975       6652\n",
            "M                     3373       6128\n",
            "Working_Years_Category   < 7  >= 7\n",
            "Applicant_Gender                  \n",
            "F                       8044  7583\n",
            "M                       5653  3848\n"
          ]
        }
      ]
    },
    {
      "cell_type": "markdown",
      "source": [
        "# **STEP 3**"
      ],
      "metadata": {
        "id": "sEwjPIzaZQ_D"
      }
    },
    {
      "cell_type": "markdown",
      "source": [
        "Step 3.1\n",
        "\n",
        "Identify Privileged/Unprivileged Groups\n",
        "\n",
        "*   Privileged group(1) : Male; >= 45 years old\n",
        "*   Unprivileged group(0): Female; < 45 years old\n",
        "\n",
        "Convert the 'Total_Income' and 'Years_of_Working' into binary values of 0 and 1\n",
        "\n",
        "*   1 indicates the favorable outcome (e.g., 'Total_Income' >= 180000 'Years_of_Working' >= 7)\n",
        "*   0 indicates the unfavorable outcome\n",
        "\n",
        "\n",
        "\n"
      ],
      "metadata": {
        "id": "_90ZFRHkd2JF"
      }
    },
    {
      "cell_type": "code",
      "source": [
        "# Add new columns to 'data' DataFrame that represent the binary versions of the dependent variables and protected attributes.\n",
        "# Convert 'Total_Income' and 'Years_of_Working' into binary values\n",
        "# .astype(int) part of the code converts the True/False values to 1/0.\n",
        "data['Total_Income_Binary'] = (data['Total_Income'] >= 180000).astype(int)  # 1 for >= 180000, otherwise 0\n",
        "data['Years_of_Working_Binary'] = (data['Years_of_Working'] >= 7).astype(int)  # 1 for >= 7 years, otherwise 0\n",
        "\n",
        "# Defining binary variables for protected attributes\n",
        "print(data['Applicant_Gender'].unique()) # Check unique values in the 'Applicant_Gender' column\n",
        "data['Applicant_Gender_Binary'] = (data['Applicant_Gender'] == 'M      ').astype(int)  # 1 for Male, otherwise 0\n",
        "data['Applicant_Age_Binary'] = (data['Applicant_Age'] >= 45).astype(int)  # 1 for age >= 45, otherwise 0\n",
        "\n",
        "# Verify the binary conversion\n",
        "print(data[['Applicant_Gender_Binary', 'Total_Income_Binary', 'Applicant_Age_Binary', 'Years_of_Working_Binary']].head(10))\n"
      ],
      "metadata": {
        "colab": {
          "base_uri": "https://localhost:8080/"
        },
        "id": "N_yqd4O5Yo0-",
        "outputId": "0d8d7a83-cfd3-42ba-92d2-a0526626183e"
      },
      "execution_count": null,
      "outputs": [
        {
          "output_type": "stream",
          "name": "stdout",
          "text": [
            "['M      ' 'F      ']\n",
            "   Applicant_Gender_Binary  Total_Income_Binary  Applicant_Age_Binary  \\\n",
            "0                        1                    0                     1   \n",
            "1                        0                    1                     1   \n",
            "2                        0                    1                     1   \n",
            "3                        0                    1                     1   \n",
            "4                        0                    1                     1   \n",
            "5                        1                    1                     1   \n",
            "6                        1                    0                     1   \n",
            "7                        1                    0                     1   \n",
            "8                        1                    0                     1   \n",
            "9                        1                    0                     1   \n",
            "\n",
            "   Years_of_Working_Binary  \n",
            "0                        0  \n",
            "1                        1  \n",
            "2                        1  \n",
            "3                        1  \n",
            "4                        1  \n",
            "5                        0  \n",
            "6                        0  \n",
            "7                        0  \n",
            "8                        0  \n",
            "9                        0  \n"
          ]
        }
      ]
    },
    {
      "cell_type": "markdown",
      "source": [
        "Step 3.2 Selecting and Computing Fairness Metrics\n",
        "\n",
        "*   Statistical Parity Difference: Measures the difference in the rate of favorable outcomes received by the unprivileged group to the privileged group.\n",
        "\n",
        "*   Disparate Impact: Measures the ratio of rates of favorable outcome for the unprivileged group to that of the privileged group.\n",
        "\n"
      ],
      "metadata": {
        "id": "WJq9Pw_If4vc"
      }
    },
    {
      "cell_type": "code",
      "source": [
        "def compute_fairness_metrics(data, protected_attribute, outcome_var):\n",
        "    # Calculate the probabilities for positive outcomes for privileged and unprivileged groups\n",
        "    prob_privileged = data[data[protected_attribute] == 1][outcome_var].mean()\n",
        "    prob_unprivileged = data[data[protected_attribute] == 0][outcome_var].mean()\n",
        "\n",
        "    # Calculate Statistical Parity Difference\n",
        "    spd = prob_unprivileged - prob_privileged\n",
        "\n",
        "    # Calculate Disparate Impact\n",
        "    di = prob_unprivileged / prob_privileged\n",
        "\n",
        "    return spd, di\n",
        "\n",
        "# Define your protected attributes and outcome variables\n",
        "protected_attributes = ['Applicant_Gender_Binary', 'Applicant_Age_Binary']\n",
        "outcome_variables = ['Total_Income_Binary', 'Years_of_Working_Binary']\n",
        "\n",
        "# Create a dictionary to hold the results\n",
        "fairness_metrics = {}\n",
        "\n",
        "# Iterate over each combination of protected attributes (gender/age) and outcome variables(years of working/total income)\n",
        "for protected in protected_attributes:\n",
        "    for outcome in outcome_variables:\n",
        "        spd, di = compute_fairness_metrics(data, protected, outcome)\n",
        "        fairness_metrics[(protected, outcome)] = {'SPD': spd, 'DI': di}\n",
        "\n",
        "# Now, 'fairness_metrics dictionary' contains all the SPD and DI values for each combination\n",
        "# Print the results\n",
        "for keys, values in fairness_metrics.items():\n",
        "    print(f\"For protected attribute '{keys[0]}' and outcome variable '{keys[1]}':\")\n",
        "    print(f\"Statistical Parity Difference: {values['SPD']}\")\n",
        "    print(f\"Disparate Impact: {values['DI']}\\n\")\n",
        "\n"
      ],
      "metadata": {
        "colab": {
          "base_uri": "https://localhost:8080/"
        },
        "id": "2LX-JiU1oVBs",
        "outputId": "493b6a58-c6bb-4547-8334-7311dbc08b4c"
      },
      "execution_count": null,
      "outputs": [
        {
          "output_type": "stream",
          "name": "stdout",
          "text": [
            "For protected attribute 'Applicant_Gender_Binary' and outcome variable 'Total_Income_Binary':\n",
            "Statistical Parity Difference: -0.21931122465834957\n",
            "Disparate Impact: 0.6599745519779734\n",
            "\n",
            "For protected attribute 'Applicant_Gender_Binary' and outcome variable 'Years_of_Working_Binary':\n",
            "Statistical Parity Difference: 0.08023988906685497\n",
            "Disparate Impact: 1.1981182915863278\n",
            "\n",
            "For protected attribute 'Applicant_Age_Binary' and outcome variable 'Total_Income_Binary':\n",
            "Statistical Parity Difference: -0.04526149876133084\n",
            "Disparate Impact: 0.915826197987332\n",
            "\n",
            "For protected attribute 'Applicant_Age_Binary' and outcome variable 'Years_of_Working_Binary':\n",
            "Statistical Parity Difference: -0.14293035631246376\n",
            "Disparate Impact: 0.7386366347128545\n",
            "\n"
          ]
        }
      ]
    },
    {
      "cell_type": "markdown",
      "source": [
        "Step 3.3: Pre-processing Bias Mitigation Algorithm\n",
        "\n",
        "Select Reweighing algorithm.\n",
        "\n",
        "The Reweighing algorithm is a pre-processing technique that assigns weights to the examples in the original dataset to ensure fairness before model training. The algorithm works by adjusting the weights such that the difference in distributions of the protected attribute across the favorable and unfavorable outcomes is reduced."
      ],
      "metadata": {
        "id": "Rf1yQzMiM2vU"
      }
    },
    {
      "cell_type": "markdown",
      "source": [
        "Step 3.4: Computing Fairness Metrics on the Transformed Dataset\n",
        "\n",
        "After applying the bias mitigation technique, recompute the fairness metrics SDP/DI to see if the bias has been reduced."
      ],
      "metadata": {
        "id": "30ZDSEzhdff1"
      }
    },
    {
      "cell_type": "code",
      "source": [
        "# install the AI Fairness 360 (AIF360) library\n",
        "!pip install aif360\n"
      ],
      "metadata": {
        "colab": {
          "base_uri": "https://localhost:8080/"
        },
        "id": "qtyk3xnMSJWK",
        "outputId": "d3a47002-19be-46ad-f8a7-068e387deb2f"
      },
      "execution_count": null,
      "outputs": [
        {
          "output_type": "stream",
          "name": "stdout",
          "text": [
            "Collecting aif360\n",
            "  Downloading aif360-0.5.0-py3-none-any.whl (214 kB)\n",
            "\u001b[?25l     \u001b[90m━━━━━━━━━━━━━━━━━━━━━━━━━━━━━━━━━━━━━━━━\u001b[0m \u001b[32m0.0/214.1 kB\u001b[0m \u001b[31m?\u001b[0m eta \u001b[36m-:--:--\u001b[0m\r\u001b[2K     \u001b[91m━━━━━━━━━━━━━━━━━━━━━━━━━━━━━━━━━━━━━━\u001b[0m\u001b[90m╺\u001b[0m\u001b[90m━\u001b[0m \u001b[32m204.8/214.1 kB\u001b[0m \u001b[31m7.0 MB/s\u001b[0m eta \u001b[36m0:00:01\u001b[0m\r\u001b[2K     \u001b[90m━━━━━━━━━━━━━━━━━━━━━━━━━━━━━━━━━━━━━━━━\u001b[0m \u001b[32m214.1/214.1 kB\u001b[0m \u001b[31m5.7 MB/s\u001b[0m eta \u001b[36m0:00:00\u001b[0m\n",
            "\u001b[?25hRequirement already satisfied: numpy>=1.16 in /usr/local/lib/python3.10/dist-packages (from aif360) (1.23.5)\n",
            "Requirement already satisfied: scipy>=1.2.0 in /usr/local/lib/python3.10/dist-packages (from aif360) (1.11.3)\n",
            "Requirement already satisfied: pandas>=0.24.0 in /usr/local/lib/python3.10/dist-packages (from aif360) (1.5.3)\n",
            "Requirement already satisfied: scikit-learn>=1.0 in /usr/local/lib/python3.10/dist-packages (from aif360) (1.2.2)\n",
            "Requirement already satisfied: matplotlib in /usr/local/lib/python3.10/dist-packages (from aif360) (3.7.1)\n",
            "Requirement already satisfied: python-dateutil>=2.8.1 in /usr/local/lib/python3.10/dist-packages (from pandas>=0.24.0->aif360) (2.8.2)\n",
            "Requirement already satisfied: pytz>=2020.1 in /usr/local/lib/python3.10/dist-packages (from pandas>=0.24.0->aif360) (2023.3.post1)\n",
            "Requirement already satisfied: joblib>=1.1.1 in /usr/local/lib/python3.10/dist-packages (from scikit-learn>=1.0->aif360) (1.3.2)\n",
            "Requirement already satisfied: threadpoolctl>=2.0.0 in /usr/local/lib/python3.10/dist-packages (from scikit-learn>=1.0->aif360) (3.2.0)\n",
            "Requirement already satisfied: contourpy>=1.0.1 in /usr/local/lib/python3.10/dist-packages (from matplotlib->aif360) (1.1.1)\n",
            "Requirement already satisfied: cycler>=0.10 in /usr/local/lib/python3.10/dist-packages (from matplotlib->aif360) (0.12.1)\n",
            "Requirement already satisfied: fonttools>=4.22.0 in /usr/local/lib/python3.10/dist-packages (from matplotlib->aif360) (4.43.1)\n",
            "Requirement already satisfied: kiwisolver>=1.0.1 in /usr/local/lib/python3.10/dist-packages (from matplotlib->aif360) (1.4.5)\n",
            "Requirement already satisfied: packaging>=20.0 in /usr/local/lib/python3.10/dist-packages (from matplotlib->aif360) (23.2)\n",
            "Requirement already satisfied: pillow>=6.2.0 in /usr/local/lib/python3.10/dist-packages (from matplotlib->aif360) (9.4.0)\n",
            "Requirement already satisfied: pyparsing>=2.3.1 in /usr/local/lib/python3.10/dist-packages (from matplotlib->aif360) (3.1.1)\n",
            "Requirement already satisfied: six>=1.5 in /usr/local/lib/python3.10/dist-packages (from python-dateutil>=2.8.1->pandas>=0.24.0->aif360) (1.16.0)\n",
            "Installing collected packages: aif360\n",
            "Successfully installed aif360-0.5.0\n"
          ]
        }
      ]
    },
    {
      "cell_type": "code",
      "source": [
        "# print(data.head())\n",
        "dataStep3 = data[['Total_Income_Binary', 'Years_of_Working_Binary', 'Applicant_Gender_Binary', 'Applicant_Age_Binary']].copy()\n",
        "print(dataStep3.head())"
      ],
      "metadata": {
        "colab": {
          "base_uri": "https://localhost:8080/"
        },
        "id": "n28LxPaxh2y4",
        "outputId": "6380410a-bc88-4bbc-f7b8-9b2443feec0d"
      },
      "execution_count": null,
      "outputs": [
        {
          "output_type": "stream",
          "name": "stdout",
          "text": [
            "   Total_Income_Binary  Years_of_Working_Binary  Applicant_Gender_Binary  \\\n",
            "0                    0                        0                        1   \n",
            "1                    1                        1                        0   \n",
            "2                    1                        1                        0   \n",
            "3                    1                        1                        0   \n",
            "4                    1                        1                        0   \n",
            "\n",
            "   Applicant_Age_Binary  \n",
            "0                     1  \n",
            "1                     1  \n",
            "2                     1  \n",
            "3                     1  \n",
            "4                     1  \n"
          ]
        }
      ]
    },
    {
      "cell_type": "code",
      "source": [
        "# The code below related to fairness in machine learning, specifically using the AI Fairness 360 (AIF360) toolkit from IBM,\n",
        "# which is a comprehensive set of tools designed to help detect and mitigate bias in machine learning models.\n",
        "# The specific functionality used here is to reweight instances in a dataset to create fairness with respect to certain protected attributes.\n",
        "\n",
        "from aif360.algorithms.preprocessing import Reweighing\n",
        "from aif360.datasets import BinaryLabelDataset # BinaryLabelDataset is a class that provides a structured way to handle datasets with binary labels in the AIF360 toolkit.\n",
        "\n",
        "# 1. Defining Variables and Groups\n",
        "# Define the outcome variables and the protected attributes\n",
        "outcome_variables = ['Total_Income_Binary', 'Years_of_Working_Binary'] # 'outcome_variables' are specific features that the model is ultimately trying to predict or assess the fairness of.\n",
        "protected_attributes = ['Applicant_Gender_Binary', 'Applicant_Age_Binary'] # 'protected_attributes' are the features that represent sensitive attributes.\n",
        "\n",
        "# Define unprivileged and privileged groups\n",
        "unprivileged_groups = [{'Applicant_Gender_Binary': 0}, {'Applicant_Age_Binary': 0}]\n",
        "privileged_groups = [{'Applicant_Gender_Binary': 1}, {'Applicant_Age_Binary': 1}]\n",
        "\n",
        "# 2. Initialize reweighing instance\n",
        "# An instance of the 'Reweighing class' is initialized with the previously defined unprivileged and privileged groups.\n",
        "# This object 'reweighing' will be used later to adjust the weights of the dataset's instances to compensate for bias.\n",
        "reweighing = Reweighing(unprivileged_groups=unprivileged_groups,\n",
        "                         privileged_groups=privileged_groups)\n",
        "\n",
        "# 3. Define a Function to Apply Reweighing\n",
        "# Below function takes an 'outcome_var' (one of the outcome variables for assessing for fairness) and a dataset 'data' as input.\n",
        "# The function uses the BinaryLabelDataset class to structure the data properly,\n",
        "# applies the reweighing algorithm to adjust the instance weights for fairness,\n",
        "# and returns the reweighted data as a pandas DataFrame including the new weights.\n",
        "def apply_reweighing(outcome_var, data):\n",
        "    # Create a BinaryLabelDataset for the given outcome variable\n",
        "    binary_label_dataset = BinaryLabelDataset(\n",
        "        favorable_label=1,\n",
        "        unfavorable_label=0,\n",
        "        df=data,\n",
        "        label_names=[outcome_var],\n",
        "        protected_attribute_names=protected_attributes\n",
        "    )\n",
        "\n",
        "    # Apply reweighing\n",
        "    reweighed_dataset = reweighing.fit_transform(binary_label_dataset)\n",
        "\n",
        "    # Convert back to pandas DataFrame\n",
        "    reweighed_data = pd.DataFrame(np.hstack([reweighed_dataset.features, reweighed_dataset.labels]),\n",
        "                                  columns=binary_label_dataset.feature_names + binary_label_dataset.label_names)\n",
        "    reweighed_data['weights'] = reweighed_dataset.instance_weights\n",
        "    return reweighed_data # return a pandas DataFrame\n",
        "\n",
        "# 4. Apply the reweighing\n",
        "reweighed_data_dict = {} # This dictionary will be used to store the reweighed data for each outcome variable.\n",
        "# The code loops over each outcome_var and applies the reweighing function to the data, storing the results in the 'reweighed_data_dict' dictionary.\n",
        "for outcome_var in outcome_variables:\n",
        "    reweighed_data = apply_reweighing(outcome_var, dataStep3)\n",
        "    reweighed_data_dict[outcome_var] = reweighed_data\n",
        "    # 'reweighed_data_dict' dictionary has two keys,'Total_Income_Binary' and 'Years_of_Working_Binary'.\n",
        "    # The values associated with each key are pandas DataFrames that have been processed through the apply_reweighing function.\n",
        "# print(reweighed_data_dict)\n",
        "\n",
        "# 5. Define a Function to Compute Fairness Metrics\n",
        "def compute_fairness_metrics_weighted(data, protected_attribute, outcome_var, weights):\n",
        "    # Calculate the probabilities for positive outcomes for privileged and unprivileged groups\n",
        "    weighted_means = data.groupby(protected_attribute).apply(\n",
        "        lambda x: np.average(x[outcome_var], weights=x[weights])\n",
        "    )\n",
        "    prob_privileged = weighted_means.loc[1]\n",
        "    prob_unprivileged = weighted_means.loc[0]\n",
        "\n",
        "    # Calculate Statistical Parity Difference\n",
        "    spd = prob_unprivileged - prob_privileged\n",
        "\n",
        "    # Calculate Disparate Impact\n",
        "    di = prob_unprivileged / prob_privileged\n",
        "\n",
        "    return spd, di\n",
        "\n",
        "fairness_metrics = {} # keys are tuples consisting of the protected attribute and outcome variable.\n",
        "for outcome_var in outcome_variables:\n",
        "    reweighed_data = reweighed_data_dict[outcome_var]\n",
        "    for protected_attr in protected_attributes:\n",
        "        spd, di = compute_fairness_metrics_weighted(reweighed_data, protected_attr, outcome_var, 'weights')\n",
        "        fairness_metrics[(protected_attr, outcome_var)] = {'SPD': spd, 'DI': di}\n",
        "print(fairness_metrics)\n",
        "\n",
        "# Print the fairness metrics results\n",
        "for (protected_attr, outcome_var), metrics in fairness_metrics.items():\n",
        "    print(f\"Outcome Variable: {outcome_var}\")\n",
        "    print(f\"Protected Attribute: {protected_attr}\")\n",
        "    print(f\"Statistical Parity Difference: {metrics['SPD']}\")\n",
        "    print(f\"Disparate Impact: {metrics['DI']}\\n\")\n"
      ],
      "metadata": {
        "colab": {
          "base_uri": "https://localhost:8080/"
        },
        "id": "jOXbIe4xAwW4",
        "outputId": "8e88a0f7-0f4e-4df4-e21c-5f836f7a7f33"
      },
      "execution_count": null,
      "outputs": [
        {
          "output_type": "stream",
          "name": "stdout",
          "text": [
            "{('Applicant_Gender_Binary', 'Total_Income_Binary'): {'SPD': -0.1716576795313604, 'DI': 0.7091854519042328}, ('Applicant_Age_Binary', 'Total_Income_Binary'): {'SPD': 0.005121482932355148, 'DI': 1.010681348440465}, ('Applicant_Gender_Binary', 'Years_of_Working_Binary'): {'SPD': 0.09123349213350451, 'DI': 1.2326536472606986}, ('Applicant_Age_Binary', 'Years_of_Working_Binary'): {'SPD': -0.1314732475371248, 'DI': 0.7535717440087893}}\n",
            "Outcome Variable: Total_Income_Binary\n",
            "Protected Attribute: Applicant_Gender_Binary\n",
            "Statistical Parity Difference: -0.1716576795313604\n",
            "Disparate Impact: 0.7091854519042328\n",
            "\n",
            "Outcome Variable: Total_Income_Binary\n",
            "Protected Attribute: Applicant_Age_Binary\n",
            "Statistical Parity Difference: 0.005121482932355148\n",
            "Disparate Impact: 1.010681348440465\n",
            "\n",
            "Outcome Variable: Years_of_Working_Binary\n",
            "Protected Attribute: Applicant_Gender_Binary\n",
            "Statistical Parity Difference: 0.09123349213350451\n",
            "Disparate Impact: 1.2326536472606986\n",
            "\n",
            "Outcome Variable: Years_of_Working_Binary\n",
            "Protected Attribute: Applicant_Age_Binary\n",
            "Statistical Parity Difference: -0.1314732475371248\n",
            "Disparate Impact: 0.7535717440087893\n",
            "\n"
          ]
        }
      ]
    }
  ]
}